{
 "cells": [
  {
   "cell_type": "markdown",
   "metadata": {},
   "source": [
    "## Problem statement and objectives\n",
    "- Explore and visualize the dataset.\n",
    "- Build a linear regression model to predict the prices of used cars.\n",
    "- Generate a set of insights and recommendations that will help the business."
   ]
  },
  {
   "cell_type": "markdown",
   "metadata": {},
   "source": [
    "## Import necessary Libraries"
   ]
  },
  {
   "cell_type": "code",
   "execution_count": 1,
   "metadata": {},
   "outputs": [],
   "source": [
    "import pandas as pd\n",
    "import numpy as np\n",
    "\n",
    "import matplotlib.pyplot as plt\n",
    "import seaborn as sns\n",
    "\n",
    "import warnings\n",
    "warnings.filterwarnings(\"ignore\")\n",
    "\n",
    "# Removes the limit from the number of displayed columns and rows.\n",
    "pd.set_option('display.max_columns', None)\n",
    "pd.set_option('display.max_rows', 200)"
   ]
  },
  {
   "cell_type": "markdown",
   "metadata": {},
   "source": [
    "## Loading and exploring the data"
   ]
  },
  {
   "cell_type": "code",
   "execution_count": 2,
   "metadata": {},
   "outputs": [
    {
     "name": "stdout",
     "output_type": "stream",
     "text": [
      "There are 7253 rows and 13 columns.\n"
     ]
    }
   ],
   "source": [
    "df = pd.read_csv(\"used_cars_data.csv\", index_col=0)\n",
    "print(f'There are {df.shape[0]} rows and {df.shape[1]} columns.')"
   ]
  },
  {
   "cell_type": "code",
   "execution_count": 3,
   "metadata": {},
   "outputs": [
    {
     "data": {
      "text/html": [
       "<div>\n",
       "<style scoped>\n",
       "    .dataframe tbody tr th:only-of-type {\n",
       "        vertical-align: middle;\n",
       "    }\n",
       "\n",
       "    .dataframe tbody tr th {\n",
       "        vertical-align: top;\n",
       "    }\n",
       "\n",
       "    .dataframe thead th {\n",
       "        text-align: right;\n",
       "    }\n",
       "</style>\n",
       "<table border=\"1\" class=\"dataframe\">\n",
       "  <thead>\n",
       "    <tr style=\"text-align: right;\">\n",
       "      <th></th>\n",
       "      <th>Name</th>\n",
       "      <th>Location</th>\n",
       "      <th>Year</th>\n",
       "      <th>Kilometers_Driven</th>\n",
       "      <th>Fuel_Type</th>\n",
       "      <th>Transmission</th>\n",
       "      <th>Owner_Type</th>\n",
       "      <th>Mileage</th>\n",
       "      <th>Engine</th>\n",
       "      <th>Power</th>\n",
       "      <th>Seats</th>\n",
       "      <th>New_Price</th>\n",
       "      <th>Price</th>\n",
       "    </tr>\n",
       "    <tr>\n",
       "      <th>S.No.</th>\n",
       "      <th></th>\n",
       "      <th></th>\n",
       "      <th></th>\n",
       "      <th></th>\n",
       "      <th></th>\n",
       "      <th></th>\n",
       "      <th></th>\n",
       "      <th></th>\n",
       "      <th></th>\n",
       "      <th></th>\n",
       "      <th></th>\n",
       "      <th></th>\n",
       "      <th></th>\n",
       "    </tr>\n",
       "  </thead>\n",
       "  <tbody>\n",
       "    <tr>\n",
       "      <th>2397</th>\n",
       "      <td>Ford EcoSport 1.5 Petrol Trend</td>\n",
       "      <td>Kolkata</td>\n",
       "      <td>2016</td>\n",
       "      <td>21460</td>\n",
       "      <td>Petrol</td>\n",
       "      <td>Manual</td>\n",
       "      <td>First</td>\n",
       "      <td>17.0 kmpl</td>\n",
       "      <td>1497 CC</td>\n",
       "      <td>121.36 bhp</td>\n",
       "      <td>5.0</td>\n",
       "      <td>9.47 Lakh</td>\n",
       "      <td>6.00</td>\n",
       "    </tr>\n",
       "    <tr>\n",
       "      <th>3777</th>\n",
       "      <td>Maruti Wagon R VXI 1.2</td>\n",
       "      <td>Kochi</td>\n",
       "      <td>2015</td>\n",
       "      <td>49818</td>\n",
       "      <td>Petrol</td>\n",
       "      <td>Manual</td>\n",
       "      <td>First</td>\n",
       "      <td>21.5 kmpl</td>\n",
       "      <td>1197 CC</td>\n",
       "      <td>81.80 bhp</td>\n",
       "      <td>5.0</td>\n",
       "      <td>5.44 Lakh</td>\n",
       "      <td>4.11</td>\n",
       "    </tr>\n",
       "    <tr>\n",
       "      <th>4425</th>\n",
       "      <td>Ford Endeavour 4x2 XLT</td>\n",
       "      <td>Hyderabad</td>\n",
       "      <td>2007</td>\n",
       "      <td>130000</td>\n",
       "      <td>Diesel</td>\n",
       "      <td>Manual</td>\n",
       "      <td>First</td>\n",
       "      <td>13.1 kmpl</td>\n",
       "      <td>2499 CC</td>\n",
       "      <td>141 bhp</td>\n",
       "      <td>7.0</td>\n",
       "      <td>NaN</td>\n",
       "      <td>6.00</td>\n",
       "    </tr>\n",
       "    <tr>\n",
       "      <th>3661</th>\n",
       "      <td>Mercedes-Benz E-Class E250 CDI Avantgrade</td>\n",
       "      <td>Coimbatore</td>\n",
       "      <td>2016</td>\n",
       "      <td>39753</td>\n",
       "      <td>Diesel</td>\n",
       "      <td>Automatic</td>\n",
       "      <td>First</td>\n",
       "      <td>13.0 kmpl</td>\n",
       "      <td>2143 CC</td>\n",
       "      <td>201.1 bhp</td>\n",
       "      <td>5.0</td>\n",
       "      <td>NaN</td>\n",
       "      <td>35.28</td>\n",
       "    </tr>\n",
       "    <tr>\n",
       "      <th>4514</th>\n",
       "      <td>Hyundai Xcent 1.2 Kappa AT SX Option</td>\n",
       "      <td>Kochi</td>\n",
       "      <td>2016</td>\n",
       "      <td>45560</td>\n",
       "      <td>Petrol</td>\n",
       "      <td>Automatic</td>\n",
       "      <td>First</td>\n",
       "      <td>16.9 kmpl</td>\n",
       "      <td>1197 CC</td>\n",
       "      <td>82 bhp</td>\n",
       "      <td>5.0</td>\n",
       "      <td>NaN</td>\n",
       "      <td>6.34</td>\n",
       "    </tr>\n",
       "    <tr>\n",
       "      <th>599</th>\n",
       "      <td>Toyota Innova Crysta 2.8 ZX AT</td>\n",
       "      <td>Coimbatore</td>\n",
       "      <td>2019</td>\n",
       "      <td>40674</td>\n",
       "      <td>Diesel</td>\n",
       "      <td>Automatic</td>\n",
       "      <td>First</td>\n",
       "      <td>11.36 kmpl</td>\n",
       "      <td>2755 CC</td>\n",
       "      <td>171.5 bhp</td>\n",
       "      <td>7.0</td>\n",
       "      <td>28.05 Lakh</td>\n",
       "      <td>24.82</td>\n",
       "    </tr>\n",
       "    <tr>\n",
       "      <th>186</th>\n",
       "      <td>Mercedes-Benz E-Class E250 CDI Avantgrade</td>\n",
       "      <td>Bangalore</td>\n",
       "      <td>2014</td>\n",
       "      <td>37382</td>\n",
       "      <td>Diesel</td>\n",
       "      <td>Automatic</td>\n",
       "      <td>First</td>\n",
       "      <td>13.0 kmpl</td>\n",
       "      <td>2143 CC</td>\n",
       "      <td>201.1 bhp</td>\n",
       "      <td>5.0</td>\n",
       "      <td>NaN</td>\n",
       "      <td>32.00</td>\n",
       "    </tr>\n",
       "    <tr>\n",
       "      <th>305</th>\n",
       "      <td>Audi A6 2011-2015 2.0 TDI Premium Plus</td>\n",
       "      <td>Kochi</td>\n",
       "      <td>2014</td>\n",
       "      <td>61726</td>\n",
       "      <td>Diesel</td>\n",
       "      <td>Automatic</td>\n",
       "      <td>First</td>\n",
       "      <td>17.68 kmpl</td>\n",
       "      <td>1968 CC</td>\n",
       "      <td>174.33 bhp</td>\n",
       "      <td>5.0</td>\n",
       "      <td>NaN</td>\n",
       "      <td>20.77</td>\n",
       "    </tr>\n",
       "    <tr>\n",
       "      <th>4582</th>\n",
       "      <td>Hyundai i20 1.2 Magna</td>\n",
       "      <td>Kolkata</td>\n",
       "      <td>2011</td>\n",
       "      <td>36000</td>\n",
       "      <td>Petrol</td>\n",
       "      <td>Manual</td>\n",
       "      <td>First</td>\n",
       "      <td>18.5 kmpl</td>\n",
       "      <td>1197 CC</td>\n",
       "      <td>80 bhp</td>\n",
       "      <td>5.0</td>\n",
       "      <td>NaN</td>\n",
       "      <td>2.50</td>\n",
       "    </tr>\n",
       "    <tr>\n",
       "      <th>5434</th>\n",
       "      <td>Honda WR-V Edge Edition i-VTEC S</td>\n",
       "      <td>Kochi</td>\n",
       "      <td>2019</td>\n",
       "      <td>13913</td>\n",
       "      <td>Petrol</td>\n",
       "      <td>Manual</td>\n",
       "      <td>First</td>\n",
       "      <td>17.5 kmpl</td>\n",
       "      <td>1199 CC</td>\n",
       "      <td>88.7 bhp</td>\n",
       "      <td>5.0</td>\n",
       "      <td>9.36 Lakh</td>\n",
       "      <td>8.20</td>\n",
       "    </tr>\n",
       "  </tbody>\n",
       "</table>\n",
       "</div>"
      ],
      "text/plain": [
       "                                            Name    Location  Year  \\\n",
       "S.No.                                                                \n",
       "2397              Ford EcoSport 1.5 Petrol Trend     Kolkata  2016   \n",
       "3777                      Maruti Wagon R VXI 1.2       Kochi  2015   \n",
       "4425                      Ford Endeavour 4x2 XLT   Hyderabad  2007   \n",
       "3661   Mercedes-Benz E-Class E250 CDI Avantgrade  Coimbatore  2016   \n",
       "4514        Hyundai Xcent 1.2 Kappa AT SX Option       Kochi  2016   \n",
       "599               Toyota Innova Crysta 2.8 ZX AT  Coimbatore  2019   \n",
       "186    Mercedes-Benz E-Class E250 CDI Avantgrade   Bangalore  2014   \n",
       "305       Audi A6 2011-2015 2.0 TDI Premium Plus       Kochi  2014   \n",
       "4582                       Hyundai i20 1.2 Magna     Kolkata  2011   \n",
       "5434            Honda WR-V Edge Edition i-VTEC S       Kochi  2019   \n",
       "\n",
       "       Kilometers_Driven Fuel_Type Transmission Owner_Type     Mileage  \\\n",
       "S.No.                                                                    \n",
       "2397               21460    Petrol       Manual      First   17.0 kmpl   \n",
       "3777               49818    Petrol       Manual      First   21.5 kmpl   \n",
       "4425              130000    Diesel       Manual      First   13.1 kmpl   \n",
       "3661               39753    Diesel    Automatic      First   13.0 kmpl   \n",
       "4514               45560    Petrol    Automatic      First   16.9 kmpl   \n",
       "599                40674    Diesel    Automatic      First  11.36 kmpl   \n",
       "186                37382    Diesel    Automatic      First   13.0 kmpl   \n",
       "305                61726    Diesel    Automatic      First  17.68 kmpl   \n",
       "4582               36000    Petrol       Manual      First   18.5 kmpl   \n",
       "5434               13913    Petrol       Manual      First   17.5 kmpl   \n",
       "\n",
       "        Engine       Power  Seats   New_Price  Price  \n",
       "S.No.                                                 \n",
       "2397   1497 CC  121.36 bhp    5.0   9.47 Lakh   6.00  \n",
       "3777   1197 CC   81.80 bhp    5.0   5.44 Lakh   4.11  \n",
       "4425   2499 CC     141 bhp    7.0         NaN   6.00  \n",
       "3661   2143 CC   201.1 bhp    5.0         NaN  35.28  \n",
       "4514   1197 CC      82 bhp    5.0         NaN   6.34  \n",
       "599    2755 CC   171.5 bhp    7.0  28.05 Lakh  24.82  \n",
       "186    2143 CC   201.1 bhp    5.0         NaN  32.00  \n",
       "305    1968 CC  174.33 bhp    5.0         NaN  20.77  \n",
       "4582   1197 CC      80 bhp    5.0         NaN   2.50  \n",
       "5434   1199 CC    88.7 bhp    5.0   9.36 Lakh   8.20  "
      ]
     },
     "execution_count": 3,
     "metadata": {},
     "output_type": "execute_result"
    }
   ],
   "source": [
    "# selecting random rows for view\n",
    "np.random.seed(1)\n",
    "df.sample(n=10)"
   ]
  },
  {
   "cell_type": "code",
   "execution_count": 4,
   "metadata": {},
   "outputs": [
    {
     "name": "stdout",
     "output_type": "stream",
     "text": [
      "<class 'pandas.core.frame.DataFrame'>\n",
      "Int64Index: 7253 entries, 0 to 7252\n",
      "Data columns (total 13 columns):\n",
      " #   Column             Non-Null Count  Dtype  \n",
      "---  ------             --------------  -----  \n",
      " 0   Name               7253 non-null   object \n",
      " 1   Location           7253 non-null   object \n",
      " 2   Year               7253 non-null   int64  \n",
      " 3   Kilometers_Driven  7253 non-null   int64  \n",
      " 4   Fuel_Type          7253 non-null   object \n",
      " 5   Transmission       7253 non-null   object \n",
      " 6   Owner_Type         7253 non-null   object \n",
      " 7   Mileage            7251 non-null   object \n",
      " 8   Engine             7207 non-null   object \n",
      " 9   Power              7207 non-null   object \n",
      " 10  Seats              7200 non-null   float64\n",
      " 11  New_Price          1006 non-null   object \n",
      " 12  Price              6019 non-null   float64\n",
      "dtypes: float64(2), int64(2), object(9)\n",
      "memory usage: 793.3+ KB\n"
     ]
    }
   ],
   "source": [
    "df.info() "
   ]
  },
  {
   "cell_type": "code",
   "execution_count": 5,
   "metadata": {},
   "outputs": [
    {
     "data": {
      "text/html": [
       "<div>\n",
       "<style scoped>\n",
       "    .dataframe tbody tr th:only-of-type {\n",
       "        vertical-align: middle;\n",
       "    }\n",
       "\n",
       "    .dataframe tbody tr th {\n",
       "        vertical-align: top;\n",
       "    }\n",
       "\n",
       "    .dataframe thead th {\n",
       "        text-align: right;\n",
       "    }\n",
       "</style>\n",
       "<table border=\"1\" class=\"dataframe\">\n",
       "  <thead>\n",
       "    <tr style=\"text-align: right;\">\n",
       "      <th></th>\n",
       "      <th>count</th>\n",
       "      <th>mean</th>\n",
       "      <th>std</th>\n",
       "      <th>min</th>\n",
       "      <th>25%</th>\n",
       "      <th>50%</th>\n",
       "      <th>75%</th>\n",
       "      <th>max</th>\n",
       "    </tr>\n",
       "  </thead>\n",
       "  <tbody>\n",
       "    <tr>\n",
       "      <th>Year</th>\n",
       "      <td>7253.0</td>\n",
       "      <td>2013.365366</td>\n",
       "      <td>3.254421</td>\n",
       "      <td>1996.00</td>\n",
       "      <td>2011.0</td>\n",
       "      <td>2014.00</td>\n",
       "      <td>2016.00</td>\n",
       "      <td>2019.0</td>\n",
       "    </tr>\n",
       "    <tr>\n",
       "      <th>Kilometers_Driven</th>\n",
       "      <td>7253.0</td>\n",
       "      <td>58699.063146</td>\n",
       "      <td>84427.720583</td>\n",
       "      <td>171.00</td>\n",
       "      <td>34000.0</td>\n",
       "      <td>53416.00</td>\n",
       "      <td>73000.00</td>\n",
       "      <td>6500000.0</td>\n",
       "    </tr>\n",
       "    <tr>\n",
       "      <th>Seats</th>\n",
       "      <td>7200.0</td>\n",
       "      <td>5.279722</td>\n",
       "      <td>0.811660</td>\n",
       "      <td>0.00</td>\n",
       "      <td>5.0</td>\n",
       "      <td>5.00</td>\n",
       "      <td>5.00</td>\n",
       "      <td>10.0</td>\n",
       "    </tr>\n",
       "    <tr>\n",
       "      <th>Price</th>\n",
       "      <td>6019.0</td>\n",
       "      <td>9.479468</td>\n",
       "      <td>11.187917</td>\n",
       "      <td>0.44</td>\n",
       "      <td>3.5</td>\n",
       "      <td>5.64</td>\n",
       "      <td>9.95</td>\n",
       "      <td>160.0</td>\n",
       "    </tr>\n",
       "  </tbody>\n",
       "</table>\n",
       "</div>"
      ],
      "text/plain": [
       "                    count          mean           std      min      25%  \\\n",
       "Year               7253.0   2013.365366      3.254421  1996.00   2011.0   \n",
       "Kilometers_Driven  7253.0  58699.063146  84427.720583   171.00  34000.0   \n",
       "Seats              7200.0      5.279722      0.811660     0.00      5.0   \n",
       "Price              6019.0      9.479468     11.187917     0.44      3.5   \n",
       "\n",
       "                        50%       75%        max  \n",
       "Year                2014.00   2016.00     2019.0  \n",
       "Kilometers_Driven  53416.00  73000.00  6500000.0  \n",
       "Seats                  5.00      5.00       10.0  \n",
       "Price                  5.64      9.95      160.0  "
      ]
     },
     "execution_count": 5,
     "metadata": {},
     "output_type": "execute_result"
    }
   ],
   "source": [
    "df.describe().T"
   ]
  },
  {
   "cell_type": "markdown",
   "metadata": {},
   "source": [
    "## Dataset Insights\n",
    "- Only 4 columns out of 12 are of numeric type: Seats and Price (float64), and Year and Kilometers_Driven (int64)\n",
    "- The New_Price column is of type string but with some pre-processing can be turned into a numerical column, since it basically contains numerical values with 'Lakh' attached to them\n",
    "- The oldest used car was manufactured in 1996, the newest one - in 2019\n",
    "- If we look at the average value of kilometers driven and the maximum value for the same column, it is clear that 6500000 - is an outlier which is very far away from the mean.\n",
    "- most of the cars seem to be standard 5-seaters\n",
    "- the prices are a little skewed to the right, but seem almost symmetrical (the median is less that one std away from the mean)"
   ]
  },
  {
   "cell_type": "code",
   "execution_count": 6,
   "metadata": {},
   "outputs": [
    {
     "data": {
      "text/plain": [
       "New_Price            6247\n",
       "Price                1234\n",
       "Seats                  53\n",
       "Power                  46\n",
       "Engine                 46\n",
       "Mileage                 2\n",
       "Owner_Type              0\n",
       "Transmission            0\n",
       "Fuel_Type               0\n",
       "Kilometers_Driven       0\n",
       "Year                    0\n",
       "Location                0\n",
       "Name                    0\n",
       "dtype: int64"
      ]
     },
     "execution_count": 6,
     "metadata": {},
     "output_type": "execute_result"
    }
   ],
   "source": [
    "df.isnull().sum().sort_values(ascending=False)"
   ]
  },
  {
   "cell_type": "markdown",
   "metadata": {},
   "source": [
    "### Observations\n",
    "The column with the most null values is New_Price. The Price column also contains a significant \n",
    "(still less than New_Price) amount of null values. Other Columns contain either an insignificant or no null values\n"
   ]
  },
  {
   "cell_type": "markdown",
   "metadata": {},
   "source": [
    "## Univariate Analysis"
   ]
  },
  {
   "cell_type": "code",
   "execution_count": 7,
   "metadata": {},
   "outputs": [
    {
     "data": {
      "text/plain": [
       "(array([1.635e+03, 2.024e+03, 8.780e+02, 3.460e+02, 2.150e+02, 2.010e+02,\n",
       "        1.280e+02, 1.160e+02, 9.300e+01, 8.100e+01, 6.000e+01, 4.500e+01,\n",
       "        3.700e+01, 3.700e+01, 2.100e+01, 2.000e+01, 1.300e+01, 1.500e+01,\n",
       "        1.100e+01, 5.000e+00, 9.000e+00, 8.000e+00, 5.000e+00, 4.000e+00,\n",
       "        3.000e+00, 0.000e+00, 2.000e+00, 0.000e+00, 1.000e+00, 2.000e+00,\n",
       "        1.000e+00, 1.000e+00, 0.000e+00, 0.000e+00, 0.000e+00, 0.000e+00,\n",
       "        0.000e+00, 1.000e+00, 0.000e+00, 0.000e+00, 0.000e+00, 0.000e+00,\n",
       "        0.000e+00, 0.000e+00, 0.000e+00, 0.000e+00, 0.000e+00, 0.000e+00,\n",
       "        0.000e+00, 1.000e+00]),\n",
       " array([  0.44  ,   3.6312,   6.8224,  10.0136,  13.2048,  16.396 ,\n",
       "         19.5872,  22.7784,  25.9696,  29.1608,  32.352 ,  35.5432,\n",
       "         38.7344,  41.9256,  45.1168,  48.308 ,  51.4992,  54.6904,\n",
       "         57.8816,  61.0728,  64.264 ,  67.4552,  70.6464,  73.8376,\n",
       "         77.0288,  80.22  ,  83.4112,  86.6024,  89.7936,  92.9848,\n",
       "         96.176 ,  99.3672, 102.5584, 105.7496, 108.9408, 112.132 ,\n",
       "        115.3232, 118.5144, 121.7056, 124.8968, 128.088 , 131.2792,\n",
       "        134.4704, 137.6616, 140.8528, 144.044 , 147.2352, 150.4264,\n",
       "        153.6176, 156.8088, 160.    ]),\n",
       " <BarContainer object of 50 artists>)"
      ]
     },
     "execution_count": 7,
     "metadata": {},
     "output_type": "execute_result"
    },
    {
     "data": {
      "image/png": "[encoded data removed]",
      "text/plain": [
       "<Figure size 432x288 with 1 Axes>"
      ]
     },
     "metadata": {
      "needs_background": "light"
     },
     "output_type": "display_data"
    }
   ],
   "source": [
    "plt.hist(df['Price'], bins = 50)"
   ]
  },
  {
   "cell_type": "markdown",
   "metadata": {},
   "source": [
    "### Comment:\n",
    "- Price is very skewed and we can try to transform it using log transform"
   ]
  },
  {
   "cell_type": "code",
   "execution_count": 8,
   "metadata": {},
   "outputs": [
    {
     "data": {
      "text/plain": [
       "<AxesSubplot:xlabel='Kilometers_Driven'>"
      ]
     },
     "execution_count": 8,
     "metadata": {},
     "output_type": "execute_result"
    },
    {
     "data": {
      "image/png": "[encoded data removed]",
      "text/plain": [
       "<Figure size 1440x720 with 1 Axes>"
      ]
     },
     "metadata": {
      "needs_background": "light"
     },
     "output_type": "display_data"
    }
   ],
   "source": [
    "plt.figure(figsize=(20,10))\n",
    "sns.boxplot(x = df['Kilometers_Driven'])"
   ]
  },
  {
   "cell_type": "markdown",
   "metadata": {},
   "source": [
    "### Observations\n",
    "- The boxplot of Kilometers driven clearly shows a single outlier which is in 6.5 million range"
   ]
  },
  {
   "cell_type": "code",
   "execution_count": 9,
   "metadata": {},
   "outputs": [
    {
     "data": {
      "text/plain": [
       "<AxesSubplot:xlabel='Location', ylabel='count'>"
      ]
     },
     "execution_count": 9,
     "metadata": {},
     "output_type": "execute_result"
    },
    {
     "data": {
      "image/png": "[encoded data removed]",
      "text/plain": [
       "<Figure size 1440x720 with 1 Axes>"
      ]
     },
     "metadata": {
      "needs_background": "light"
     },
     "output_type": "display_data"
    }
   ],
   "source": [
    "plt.figure(figsize=(20,10))\n",
    "sns.countplot(df['Location'])"
   ]
  },
  {
   "cell_type": "markdown",
   "metadata": {},
   "source": [
    "### Observations\n",
    "- Most frequent locations are Mumbai followed by Hyderabad"
   ]
  },
  {
   "cell_type": "markdown",
   "metadata": {},
   "source": [
    "## Data Preprocessing\n",
    "Before moving on with univariate analysis I need to clean up data for some columns to turn them into numerical columns.\n",
    "I will start with the New_Price column. After splitting the numerical part and the unit part, I found that basically there are two type of suffixes: 'Cr' and 'Lakh'; if the suffix is 'Cr' = 100 Lakhs, then we multiply accordingly:"
   ]
  },
  {
   "cell_type": "code",
   "execution_count": 10,
   "metadata": {},
   "outputs": [
    {
     "data": {
      "text/plain": [
       "S.No.\n",
       "0        NaN\n",
       "1        NaN\n",
       "2       8.61\n",
       "3        NaN\n",
       "4        NaN\n",
       "        ... \n",
       "7248     NaN\n",
       "7249     NaN\n",
       "7250     NaN\n",
       "7251     NaN\n",
       "7252     NaN\n",
       "Name: New_Price, Length: 7253, dtype: float64"
      ]
     },
     "execution_count": 10,
     "metadata": {},
     "output_type": "execute_result"
    }
   ],
   "source": [
    "def ConvertPrice(val):\n",
    "    if isinstance(val, str):\n",
    "        suf = val.split(' ')[1]\n",
    "        amount = float(val.split(' ')[0])\n",
    "        if suf == 'Cr':\n",
    "            return amount * 100\n",
    "        else:\n",
    "            return amount\n",
    "    else:\n",
    "        return np.nan\n",
    "    \n",
    "df['New_Price'] = df['New_Price'].apply(ConvertPrice)\n",
    "df['New_Price']"
   ]
  },
  {
   "cell_type": "code",
   "execution_count": 11,
   "metadata": {},
   "outputs": [
    {
     "data": {
      "text/plain": [
       "6247"
      ]
     },
     "execution_count": 11,
     "metadata": {},
     "output_type": "execute_result"
    }
   ],
   "source": [
    "df['New_Price'].isnull().sum()"
   ]
  },
  {
   "cell_type": "markdown",
   "metadata": {},
   "source": [
    "We see that the number of null values hasn't changed, but we now have a numerical column instead of a column of strings\n",
    "Since Price is given in Lakhs, we needed to convert the New_Price to Lakhs, so that we keep the same units, for the remaining columns I will simply drop the units:"
   ]
  },
  {
   "cell_type": "code",
   "execution_count": 12,
   "metadata": {},
   "outputs": [],
   "source": [
    "def stripUnits(val):\n",
    "    if isinstance(val, str):\n",
    "        try:\n",
    "            return float(val.split(' ')[0])\n",
    "        except ValueError:\n",
    "            return np.nan\n",
    "    else:\n",
    "        return np.nan\n",
    "\n",
    "strip_columns = ['Engine', 'Mileage', 'Power']\n",
    "\n",
    "for colname in strip_columns:\n",
    "    df[colname] = df[colname].apply(stripUnits)"
   ]
  },
  {
   "cell_type": "code",
   "execution_count": 13,
   "metadata": {},
   "outputs": [
    {
     "name": "stdout",
     "output_type": "stream",
     "text": [
      "<class 'pandas.core.frame.DataFrame'>\n",
      "Int64Index: 7253 entries, 0 to 7252\n",
      "Data columns (total 3 columns):\n",
      " #   Column   Non-Null Count  Dtype  \n",
      "---  ------   --------------  -----  \n",
      " 0   Engine   7207 non-null   float64\n",
      " 1   Mileage  7251 non-null   float64\n",
      " 2   Power    7078 non-null   float64\n",
      "dtypes: float64(3)\n",
      "memory usage: 546.7 KB\n"
     ]
    }
   ],
   "source": [
    "df[strip_columns].info() # successfully converted to float64 type"
   ]
  },
  {
   "cell_type": "markdown",
   "metadata": {},
   "source": [
    "Now we can continue with univariate analysis and transformations if needed:"
   ]
  },
  {
   "cell_type": "code",
   "execution_count": 14,
   "metadata": {},
   "outputs": [
    {
     "data": {
      "text/plain": [
       "<AxesSubplot:xlabel='Power', ylabel='Count'>"
      ]
     },
     "execution_count": 14,
     "metadata": {},
     "output_type": "execute_result"
    },
    {
     "data": {
      "image/png": "[encoded data removed]",
      "text/plain": [
       "<Figure size 432x288 with 1 Axes>"
      ]
     },
     "metadata": {
      "needs_background": "light"
     },
     "output_type": "display_data"
    }
   ],
   "source": [
    "sns.histplot(df['Power'])"
   ]
  },
  {
   "cell_type": "code",
   "execution_count": 15,
   "metadata": {},
   "outputs": [
    {
     "data": {
      "text/plain": [
       "<AxesSubplot:xlabel='Mileage', ylabel='Density'>"
      ]
     },
     "execution_count": 15,
     "metadata": {},
     "output_type": "execute_result"
    },
    {
     "data": {
      "image/png": "[encoded data removed]",
      "text/plain": [
       "<Figure size 432x288 with 1 Axes>"
      ]
     },
     "metadata": {
      "needs_background": "light"
     },
     "output_type": "display_data"
    }
   ],
   "source": [
    "sns.distplot(df['Mileage'])"
   ]
  },
  {
   "cell_type": "code",
   "execution_count": 16,
   "metadata": {},
   "outputs": [
    {
     "data": {
      "text/plain": [
       "<AxesSubplot:xlabel='Engine', ylabel='Count'>"
      ]
     },
     "execution_count": 16,
     "metadata": {},
     "output_type": "execute_result"
    },
    {
     "data": {
      "image/png": "[encoded data removed]",
      "text/plain": [
       "<Figure size 432x288 with 1 Axes>"
      ]
     },
     "metadata": {
      "needs_background": "light"
     },
     "output_type": "display_data"
    }
   ],
   "source": [
    "sns.histplot(df['Engine'])"
   ]
  },
  {
   "cell_type": "code",
   "execution_count": 17,
   "metadata": {},
   "outputs": [
    {
     "data": {
      "text/plain": [
       "<AxesSubplot:xlabel='New_Price', ylabel='Density'>"
      ]
     },
     "execution_count": 17,
     "metadata": {},
     "output_type": "execute_result"
    },
    {
     "data": {
      "image/png": "[encoded data removed]",
      "text/plain": [
       "<Figure size 432x288 with 1 Axes>"
      ]
     },
     "metadata": {
      "needs_background": "light"
     },
     "output_type": "display_data"
    }
   ],
   "source": [
    "sns.distplot(df['New_Price'])"
   ]
  },
  {
   "cell_type": "code",
   "execution_count": 18,
   "metadata": {},
   "outputs": [
    {
     "data": {
      "text/plain": [
       "<AxesSubplot:xlabel='Kilometers_Driven', ylabel='Count'>"
      ]
     },
     "execution_count": 18,
     "metadata": {},
     "output_type": "execute_result"
    },
    {
     "data": {
      "image/png": "[encoded data removed]",
      "text/plain": [
       "<Figure size 1440x720 with 1 Axes>"
      ]
     },
     "metadata": {
      "needs_background": "light"
     },
     "output_type": "display_data"
    }
   ],
   "source": [
    "plt.figure(figsize=(20,10))\n",
    "sns.histplot(df['Kilometers_Driven'])"
   ]
  },
  {
   "cell_type": "markdown",
   "metadata": {},
   "source": [
    "### Observations\n",
    "- Mileage, Power and Engine column data seem more or less uniformly distributed\n",
    "- Kilometers_Driven and New_Price column data are heavily right-skewed"
   ]
  },
  {
   "cell_type": "markdown",
   "metadata": {},
   "source": [
    "## Feature Engineering"
   ]
  },
  {
   "cell_type": "markdown",
   "metadata": {},
   "source": [
    "Split the name of the vehicles into brand and model columns"
   ]
  },
  {
   "cell_type": "code",
   "execution_count": 19,
   "metadata": {},
   "outputs": [
    {
     "data": {
      "text/plain": [
       "S.No.\n",
       "0              Maruti\n",
       "1             Hyundai\n",
       "2               Honda\n",
       "3              Maruti\n",
       "4                Audi\n",
       "            ...      \n",
       "7248       Volkswagen\n",
       "7249       Volkswagen\n",
       "7250           Nissan\n",
       "7251       Volkswagen\n",
       "7252    Mercedes-Benz\n",
       "Name: Brand, Length: 7253, dtype: object"
      ]
     },
     "execution_count": 19,
     "metadata": {},
     "output_type": "execute_result"
    }
   ],
   "source": [
    "df['Brand'] = df['Name'].apply(lambda val: val.split(' ')[0])\n",
    "df['Brand']"
   ]
  },
  {
   "cell_type": "code",
   "execution_count": 20,
   "metadata": {},
   "outputs": [
    {
     "data": {
      "text/plain": [
       "S.No.\n",
       "0                              Wagon R LXI CNG\n",
       "1                     Creta 1.6 CRDi SX Option\n",
       "2                                       Jazz V\n",
       "3                                   Ertiga VDI\n",
       "4                   A4 New 2.0 TDI Multitronic\n",
       "                         ...                  \n",
       "7248                    Vento Diesel Trendline\n",
       "7249                               Polo GT TSI\n",
       "7250                           Micra Diesel XV\n",
       "7251                               Polo GT TSI\n",
       "7252    E-Class 2009-2013 E 220 CDI Avantgarde\n",
       "Name: Model, Length: 7253, dtype: object"
      ]
     },
     "execution_count": 20,
     "metadata": {},
     "output_type": "execute_result"
    }
   ],
   "source": [
    "df['Model'] = df['Name'].apply(lambda val: val.split(' ', 1)[1])\n",
    "df['Model']"
   ]
  },
  {
   "cell_type": "markdown",
   "metadata": {},
   "source": [
    "### Missing value treatment \n",
    "I will group the column values by brand and find median to replace missing values"
   ]
  },
  {
   "cell_type": "code",
   "execution_count": 21,
   "metadata": {},
   "outputs": [
    {
     "data": {
      "text/plain": [
       "Name                    0\n",
       "Location                0\n",
       "Year                    0\n",
       "Kilometers_Driven       0\n",
       "Fuel_Type               0\n",
       "Transmission            0\n",
       "Owner_Type              0\n",
       "Mileage                 2\n",
       "Engine                 46\n",
       "Power                 175\n",
       "Seats                  53\n",
       "New_Price            6247\n",
       "Price                1234\n",
       "Brand                   0\n",
       "Model                   0\n",
       "dtype: int64"
      ]
     },
     "execution_count": 21,
     "metadata": {},
     "output_type": "execute_result"
    }
   ],
   "source": [
    "df.isnull().sum()"
   ]
  },
  {
   "cell_type": "code",
   "execution_count": 22,
   "metadata": {},
   "outputs": [
    {
     "data": {
      "text/html": [
       "<div>\n",
       "<style scoped>\n",
       "    .dataframe tbody tr th:only-of-type {\n",
       "        vertical-align: middle;\n",
       "    }\n",
       "\n",
       "    .dataframe tbody tr th {\n",
       "        vertical-align: top;\n",
       "    }\n",
       "\n",
       "    .dataframe thead th {\n",
       "        text-align: right;\n",
       "    }\n",
       "</style>\n",
       "<table border=\"1\" class=\"dataframe\">\n",
       "  <thead>\n",
       "    <tr style=\"text-align: right;\">\n",
       "      <th></th>\n",
       "      <th>Year</th>\n",
       "      <th>Kilometers_Driven</th>\n",
       "      <th>Mileage</th>\n",
       "      <th>Engine</th>\n",
       "      <th>Power</th>\n",
       "      <th>Seats</th>\n",
       "      <th>New_Price</th>\n",
       "      <th>Price</th>\n",
       "    </tr>\n",
       "    <tr>\n",
       "      <th>Brand</th>\n",
       "      <th></th>\n",
       "      <th></th>\n",
       "      <th></th>\n",
       "      <th></th>\n",
       "      <th></th>\n",
       "      <th></th>\n",
       "      <th></th>\n",
       "      <th></th>\n",
       "    </tr>\n",
       "  </thead>\n",
       "  <tbody>\n",
       "    <tr>\n",
       "      <th>Ambassador</th>\n",
       "      <td>2003.0</td>\n",
       "      <td>80000.0</td>\n",
       "      <td>12.800</td>\n",
       "      <td>1489.0</td>\n",
       "      <td>35.500</td>\n",
       "      <td>5.0</td>\n",
       "      <td>NaN</td>\n",
       "      <td>1.350</td>\n",
       "    </tr>\n",
       "    <tr>\n",
       "      <th>Audi</th>\n",
       "      <td>2014.0</td>\n",
       "      <td>52830.0</td>\n",
       "      <td>15.730</td>\n",
       "      <td>1968.0</td>\n",
       "      <td>174.330</td>\n",
       "      <td>5.0</td>\n",
       "      <td>55.610</td>\n",
       "      <td>23.500</td>\n",
       "    </tr>\n",
       "    <tr>\n",
       "      <th>BMW</th>\n",
       "      <td>2013.0</td>\n",
       "      <td>54692.5</td>\n",
       "      <td>17.050</td>\n",
       "      <td>1995.0</td>\n",
       "      <td>190.000</td>\n",
       "      <td>5.0</td>\n",
       "      <td>58.670</td>\n",
       "      <td>21.000</td>\n",
       "    </tr>\n",
       "    <tr>\n",
       "      <th>Bentley</th>\n",
       "      <td>2007.0</td>\n",
       "      <td>39600.0</td>\n",
       "      <td>9.400</td>\n",
       "      <td>5998.0</td>\n",
       "      <td>584.000</td>\n",
       "      <td>4.5</td>\n",
       "      <td>375.000</td>\n",
       "      <td>59.000</td>\n",
       "    </tr>\n",
       "    <tr>\n",
       "      <th>Chevrolet</th>\n",
       "      <td>2012.0</td>\n",
       "      <td>62242.0</td>\n",
       "      <td>18.100</td>\n",
       "      <td>1199.0</td>\n",
       "      <td>79.400</td>\n",
       "      <td>5.0</td>\n",
       "      <td>NaN</td>\n",
       "      <td>2.500</td>\n",
       "    </tr>\n",
       "    <tr>\n",
       "      <th>Datsun</th>\n",
       "      <td>2016.0</td>\n",
       "      <td>20487.0</td>\n",
       "      <td>20.630</td>\n",
       "      <td>1198.0</td>\n",
       "      <td>67.000</td>\n",
       "      <td>5.0</td>\n",
       "      <td>4.370</td>\n",
       "      <td>3.100</td>\n",
       "    </tr>\n",
       "    <tr>\n",
       "      <th>Fiat</th>\n",
       "      <td>2011.0</td>\n",
       "      <td>54705.0</td>\n",
       "      <td>18.400</td>\n",
       "      <td>1248.0</td>\n",
       "      <td>90.600</td>\n",
       "      <td>5.0</td>\n",
       "      <td>8.955</td>\n",
       "      <td>2.600</td>\n",
       "    </tr>\n",
       "    <tr>\n",
       "      <th>Force</th>\n",
       "      <td>2014.0</td>\n",
       "      <td>41000.0</td>\n",
       "      <td>17.000</td>\n",
       "      <td>2200.0</td>\n",
       "      <td>139.010</td>\n",
       "      <td>7.0</td>\n",
       "      <td>NaN</td>\n",
       "      <td>8.000</td>\n",
       "    </tr>\n",
       "    <tr>\n",
       "      <th>Ford</th>\n",
       "      <td>2014.0</td>\n",
       "      <td>60924.0</td>\n",
       "      <td>18.880</td>\n",
       "      <td>1498.0</td>\n",
       "      <td>89.840</td>\n",
       "      <td>5.0</td>\n",
       "      <td>11.200</td>\n",
       "      <td>5.345</td>\n",
       "    </tr>\n",
       "    <tr>\n",
       "      <th>Hindustan</th>\n",
       "      <td>1996.0</td>\n",
       "      <td>65000.0</td>\n",
       "      <td>14.100</td>\n",
       "      <td>1995.0</td>\n",
       "      <td>NaN</td>\n",
       "      <td>5.0</td>\n",
       "      <td>NaN</td>\n",
       "      <td>NaN</td>\n",
       "    </tr>\n",
       "    <tr>\n",
       "      <th>Honda</th>\n",
       "      <td>2014.0</td>\n",
       "      <td>51806.0</td>\n",
       "      <td>17.800</td>\n",
       "      <td>1497.0</td>\n",
       "      <td>98.600</td>\n",
       "      <td>5.0</td>\n",
       "      <td>11.150</td>\n",
       "      <td>4.950</td>\n",
       "    </tr>\n",
       "    <tr>\n",
       "      <th>Hyundai</th>\n",
       "      <td>2014.0</td>\n",
       "      <td>47358.0</td>\n",
       "      <td>18.900</td>\n",
       "      <td>1197.0</td>\n",
       "      <td>82.000</td>\n",
       "      <td>5.0</td>\n",
       "      <td>9.740</td>\n",
       "      <td>4.600</td>\n",
       "    </tr>\n",
       "    <tr>\n",
       "      <th>ISUZU</th>\n",
       "      <td>2017.0</td>\n",
       "      <td>25000.0</td>\n",
       "      <td>12.400</td>\n",
       "      <td>2499.0</td>\n",
       "      <td>134.000</td>\n",
       "      <td>5.0</td>\n",
       "      <td>NaN</td>\n",
       "      <td>12.045</td>\n",
       "    </tr>\n",
       "    <tr>\n",
       "      <th>Isuzu</th>\n",
       "      <td>2016.5</td>\n",
       "      <td>39714.5</td>\n",
       "      <td>12.940</td>\n",
       "      <td>2999.0</td>\n",
       "      <td>167.785</td>\n",
       "      <td>7.0</td>\n",
       "      <td>33.680</td>\n",
       "      <td>20.000</td>\n",
       "    </tr>\n",
       "    <tr>\n",
       "      <th>Jaguar</th>\n",
       "      <td>2015.0</td>\n",
       "      <td>31275.0</td>\n",
       "      <td>14.740</td>\n",
       "      <td>2179.0</td>\n",
       "      <td>212.550</td>\n",
       "      <td>5.0</td>\n",
       "      <td>53.720</td>\n",
       "      <td>31.900</td>\n",
       "    </tr>\n",
       "    <tr>\n",
       "      <th>Jeep</th>\n",
       "      <td>2018.0</td>\n",
       "      <td>26101.0</td>\n",
       "      <td>17.100</td>\n",
       "      <td>1956.0</td>\n",
       "      <td>170.000</td>\n",
       "      <td>5.0</td>\n",
       "      <td>22.950</td>\n",
       "      <td>18.500</td>\n",
       "    </tr>\n",
       "    <tr>\n",
       "      <th>Lamborghini</th>\n",
       "      <td>2011.0</td>\n",
       "      <td>6500.0</td>\n",
       "      <td>6.400</td>\n",
       "      <td>5204.0</td>\n",
       "      <td>560.000</td>\n",
       "      <td>2.0</td>\n",
       "      <td>NaN</td>\n",
       "      <td>120.000</td>\n",
       "    </tr>\n",
       "    <tr>\n",
       "      <th>Land</th>\n",
       "      <td>2014.0</td>\n",
       "      <td>59000.0</td>\n",
       "      <td>12.630</td>\n",
       "      <td>2179.0</td>\n",
       "      <td>187.700</td>\n",
       "      <td>5.0</td>\n",
       "      <td>120.000</td>\n",
       "      <td>35.000</td>\n",
       "    </tr>\n",
       "    <tr>\n",
       "      <th>Mahindra</th>\n",
       "      <td>2014.0</td>\n",
       "      <td>65100.0</td>\n",
       "      <td>15.100</td>\n",
       "      <td>2179.0</td>\n",
       "      <td>120.000</td>\n",
       "      <td>7.0</td>\n",
       "      <td>11.145</td>\n",
       "      <td>7.570</td>\n",
       "    </tr>\n",
       "    <tr>\n",
       "      <th>Maruti</th>\n",
       "      <td>2014.0</td>\n",
       "      <td>52000.0</td>\n",
       "      <td>21.100</td>\n",
       "      <td>1197.0</td>\n",
       "      <td>74.000</td>\n",
       "      <td>5.0</td>\n",
       "      <td>7.870</td>\n",
       "      <td>4.150</td>\n",
       "    </tr>\n",
       "    <tr>\n",
       "      <th>Mercedes-Benz</th>\n",
       "      <td>2014.0</td>\n",
       "      <td>43310.0</td>\n",
       "      <td>14.210</td>\n",
       "      <td>2143.0</td>\n",
       "      <td>186.000</td>\n",
       "      <td>5.0</td>\n",
       "      <td>78.760</td>\n",
       "      <td>24.000</td>\n",
       "    </tr>\n",
       "    <tr>\n",
       "      <th>Mini</th>\n",
       "      <td>2015.0</td>\n",
       "      <td>20469.0</td>\n",
       "      <td>18.860</td>\n",
       "      <td>1598.0</td>\n",
       "      <td>113.980</td>\n",
       "      <td>4.0</td>\n",
       "      <td>42.120</td>\n",
       "      <td>24.285</td>\n",
       "    </tr>\n",
       "    <tr>\n",
       "      <th>Mitsubishi</th>\n",
       "      <td>2013.0</td>\n",
       "      <td>75500.0</td>\n",
       "      <td>13.500</td>\n",
       "      <td>2477.0</td>\n",
       "      <td>172.780</td>\n",
       "      <td>6.0</td>\n",
       "      <td>33.210</td>\n",
       "      <td>9.950</td>\n",
       "    </tr>\n",
       "    <tr>\n",
       "      <th>Nissan</th>\n",
       "      <td>2013.0</td>\n",
       "      <td>55000.0</td>\n",
       "      <td>19.340</td>\n",
       "      <td>1461.0</td>\n",
       "      <td>84.800</td>\n",
       "      <td>5.0</td>\n",
       "      <td>9.510</td>\n",
       "      <td>4.300</td>\n",
       "    </tr>\n",
       "    <tr>\n",
       "      <th>OpelCorsa</th>\n",
       "      <td>2005.0</td>\n",
       "      <td>50000.0</td>\n",
       "      <td>14.200</td>\n",
       "      <td>1389.0</td>\n",
       "      <td>88.000</td>\n",
       "      <td>5.0</td>\n",
       "      <td>NaN</td>\n",
       "      <td>NaN</td>\n",
       "    </tr>\n",
       "    <tr>\n",
       "      <th>Porsche</th>\n",
       "      <td>2013.0</td>\n",
       "      <td>42400.0</td>\n",
       "      <td>15.150</td>\n",
       "      <td>2967.0</td>\n",
       "      <td>300.000</td>\n",
       "      <td>4.0</td>\n",
       "      <td>136.000</td>\n",
       "      <td>47.020</td>\n",
       "    </tr>\n",
       "    <tr>\n",
       "      <th>Renault</th>\n",
       "      <td>2015.0</td>\n",
       "      <td>55200.0</td>\n",
       "      <td>19.870</td>\n",
       "      <td>1461.0</td>\n",
       "      <td>83.800</td>\n",
       "      <td>5.0</td>\n",
       "      <td>4.930</td>\n",
       "      <td>5.490</td>\n",
       "    </tr>\n",
       "    <tr>\n",
       "      <th>Skoda</th>\n",
       "      <td>2013.0</td>\n",
       "      <td>60501.0</td>\n",
       "      <td>17.200</td>\n",
       "      <td>1798.0</td>\n",
       "      <td>108.495</td>\n",
       "      <td>5.0</td>\n",
       "      <td>31.365</td>\n",
       "      <td>6.000</td>\n",
       "    </tr>\n",
       "    <tr>\n",
       "      <th>Smart</th>\n",
       "      <td>2008.0</td>\n",
       "      <td>103000.0</td>\n",
       "      <td>0.000</td>\n",
       "      <td>799.0</td>\n",
       "      <td>NaN</td>\n",
       "      <td>2.0</td>\n",
       "      <td>NaN</td>\n",
       "      <td>3.000</td>\n",
       "    </tr>\n",
       "    <tr>\n",
       "      <th>Tata</th>\n",
       "      <td>2014.0</td>\n",
       "      <td>61094.0</td>\n",
       "      <td>20.475</td>\n",
       "      <td>1248.0</td>\n",
       "      <td>74.000</td>\n",
       "      <td>5.0</td>\n",
       "      <td>7.630</td>\n",
       "      <td>2.900</td>\n",
       "    </tr>\n",
       "    <tr>\n",
       "      <th>Toyota</th>\n",
       "      <td>2013.0</td>\n",
       "      <td>72000.0</td>\n",
       "      <td>12.990</td>\n",
       "      <td>2494.0</td>\n",
       "      <td>132.000</td>\n",
       "      <td>7.0</td>\n",
       "      <td>23.250</td>\n",
       "      <td>10.750</td>\n",
       "    </tr>\n",
       "    <tr>\n",
       "      <th>Volkswagen</th>\n",
       "      <td>2013.0</td>\n",
       "      <td>55000.0</td>\n",
       "      <td>17.210</td>\n",
       "      <td>1498.0</td>\n",
       "      <td>103.200</td>\n",
       "      <td>5.0</td>\n",
       "      <td>11.105</td>\n",
       "      <td>4.890</td>\n",
       "    </tr>\n",
       "    <tr>\n",
       "      <th>Volvo</th>\n",
       "      <td>2014.0</td>\n",
       "      <td>70000.0</td>\n",
       "      <td>13.500</td>\n",
       "      <td>1985.0</td>\n",
       "      <td>190.000</td>\n",
       "      <td>5.0</td>\n",
       "      <td>45.670</td>\n",
       "      <td>18.250</td>\n",
       "    </tr>\n",
       "  </tbody>\n",
       "</table>\n",
       "</div>"
      ],
      "text/plain": [
       "                 Year  Kilometers_Driven  Mileage  Engine    Power  Seats  \\\n",
       "Brand                                                                       \n",
       "Ambassador     2003.0            80000.0   12.800  1489.0   35.500    5.0   \n",
       "Audi           2014.0            52830.0   15.730  1968.0  174.330    5.0   \n",
       "BMW            2013.0            54692.5   17.050  1995.0  190.000    5.0   \n",
       "Bentley        2007.0            39600.0    9.400  5998.0  584.000    4.5   \n",
       "Chevrolet      2012.0            62242.0   18.100  1199.0   79.400    5.0   \n",
       "Datsun         2016.0            20487.0   20.630  1198.0   67.000    5.0   \n",
       "Fiat           2011.0            54705.0   18.400  1248.0   90.600    5.0   \n",
       "Force          2014.0            41000.0   17.000  2200.0  139.010    7.0   \n",
       "Ford           2014.0            60924.0   18.880  1498.0   89.840    5.0   \n",
       "Hindustan      1996.0            65000.0   14.100  1995.0      NaN    5.0   \n",
       "Honda          2014.0            51806.0   17.800  1497.0   98.600    5.0   \n",
       "Hyundai        2014.0            47358.0   18.900  1197.0   82.000    5.0   \n",
       "ISUZU          2017.0            25000.0   12.400  2499.0  134.000    5.0   \n",
       "Isuzu          2016.5            39714.5   12.940  2999.0  167.785    7.0   \n",
       "Jaguar         2015.0            31275.0   14.740  2179.0  212.550    5.0   \n",
       "Jeep           2018.0            26101.0   17.100  1956.0  170.000    5.0   \n",
       "Lamborghini    2011.0             6500.0    6.400  5204.0  560.000    2.0   \n",
       "Land           2014.0            59000.0   12.630  2179.0  187.700    5.0   \n",
       "Mahindra       2014.0            65100.0   15.100  2179.0  120.000    7.0   \n",
       "Maruti         2014.0            52000.0   21.100  1197.0   74.000    5.0   \n",
       "Mercedes-Benz  2014.0            43310.0   14.210  2143.0  186.000    5.0   \n",
       "Mini           2015.0            20469.0   18.860  1598.0  113.980    4.0   \n",
       "Mitsubishi     2013.0            75500.0   13.500  2477.0  172.780    6.0   \n",
       "Nissan         2013.0            55000.0   19.340  1461.0   84.800    5.0   \n",
       "OpelCorsa      2005.0            50000.0   14.200  1389.0   88.000    5.0   \n",
       "Porsche        2013.0            42400.0   15.150  2967.0  300.000    4.0   \n",
       "Renault        2015.0            55200.0   19.870  1461.0   83.800    5.0   \n",
       "Skoda          2013.0            60501.0   17.200  1798.0  108.495    5.0   \n",
       "Smart          2008.0           103000.0    0.000   799.0      NaN    2.0   \n",
       "Tata           2014.0            61094.0   20.475  1248.0   74.000    5.0   \n",
       "Toyota         2013.0            72000.0   12.990  2494.0  132.000    7.0   \n",
       "Volkswagen     2013.0            55000.0   17.210  1498.0  103.200    5.0   \n",
       "Volvo          2014.0            70000.0   13.500  1985.0  190.000    5.0   \n",
       "\n",
       "               New_Price    Price  \n",
       "Brand                              \n",
       "Ambassador           NaN    1.350  \n",
       "Audi              55.610   23.500  \n",
       "BMW               58.670   21.000  \n",
       "Bentley          375.000   59.000  \n",
       "Chevrolet            NaN    2.500  \n",
       "Datsun             4.370    3.100  \n",
       "Fiat               8.955    2.600  \n",
       "Force                NaN    8.000  \n",
       "Ford              11.200    5.345  \n",
       "Hindustan            NaN      NaN  \n",
       "Honda             11.150    4.950  \n",
       "Hyundai            9.740    4.600  \n",
       "ISUZU                NaN   12.045  \n",
       "Isuzu             33.680   20.000  \n",
       "Jaguar            53.720   31.900  \n",
       "Jeep              22.950   18.500  \n",
       "Lamborghini          NaN  120.000  \n",
       "Land             120.000   35.000  \n",
       "Mahindra          11.145    7.570  \n",
       "Maruti             7.870    4.150  \n",
       "Mercedes-Benz     78.760   24.000  \n",
       "Mini              42.120   24.285  \n",
       "Mitsubishi        33.210    9.950  \n",
       "Nissan             9.510    4.300  \n",
       "OpelCorsa            NaN      NaN  \n",
       "Porsche          136.000   47.020  \n",
       "Renault            4.930    5.490  \n",
       "Skoda             31.365    6.000  \n",
       "Smart                NaN    3.000  \n",
       "Tata               7.630    2.900  \n",
       "Toyota            23.250   10.750  \n",
       "Volkswagen        11.105    4.890  \n",
       "Volvo             45.670   18.250  "
      ]
     },
     "execution_count": 22,
     "metadata": {},
     "output_type": "execute_result"
    }
   ],
   "source": [
    "df.groupby('Brand').median()"
   ]
  },
  {
   "cell_type": "code",
   "execution_count": 26,
   "metadata": {},
   "outputs": [
    {
     "data": {
      "text/plain": [
       "Brand\n",
       "Ambassador       12.800\n",
       "Audi             15.730\n",
       "BMW              17.050\n",
       "Bentley           9.400\n",
       "Chevrolet        18.100\n",
       "Datsun           20.630\n",
       "Fiat             18.400\n",
       "Force            17.000\n",
       "Ford             18.880\n",
       "Hindustan        14.100\n",
       "Honda            17.800\n",
       "Hyundai          18.900\n",
       "ISUZU            12.400\n",
       "Isuzu            12.940\n",
       "Jaguar           14.740\n",
       "Jeep             17.100\n",
       "Lamborghini       6.400\n",
       "Land             12.630\n",
       "Mahindra         15.100\n",
       "Maruti           21.100\n",
       "Mercedes-Benz    14.210\n",
       "Mini             18.860\n",
       "Mitsubishi       13.500\n",
       "Nissan           19.340\n",
       "OpelCorsa        14.200\n",
       "Porsche          15.150\n",
       "Renault          19.870\n",
       "Skoda            17.200\n",
       "Smart             0.000\n",
       "Tata             20.475\n",
       "Toyota           12.990\n",
       "Volkswagen       17.210\n",
       "Volvo            13.500\n",
       "Name: Mileage, dtype: float64"
      ]
     },
     "execution_count": 26,
     "metadata": {},
     "output_type": "execute_result"
    }
   ],
   "source": [
    "#df[\"Mileage\"] = df.groupby(\"Brand\").transform(lambda x: x.fillna(x.median()))\n",
    "df.groupby(\"Brand\").median()['Mileage']"
   ]
  },
  {
   "cell_type": "code",
   "execution_count": 24,
   "metadata": {},
   "outputs": [
    {
     "data": {
      "text/plain": [
       "S.No.\n",
       "0    26.60\n",
       "1    19.67\n",
       "2    18.20\n",
       "3    20.77\n",
       "4    15.20\n",
       "Name: Mileage, dtype: float64"
      ]
     },
     "execution_count": 24,
     "metadata": {},
     "output_type": "execute_result"
    }
   ],
   "source": [
    "df[\"Mileage\"].head()"
   ]
  }
 ],
 "metadata": {
  "kernelspec": {
   "display_name": "Python 3",
   "language": "python",
   "name": "python3"
  },
  "language_info": {
   "codemirror_mode": {
    "name": "ipython",
    "version": 3
   },
   "file_extension": ".py",
   "mimetype": "text/x-python",
   "name": "python",
   "nbconvert_exporter": "python",
   "pygments_lexer": "ipython3",
   "version": "3.8.5"
  }
 },
 "nbformat": 4,
 "nbformat_minor": 4
}
